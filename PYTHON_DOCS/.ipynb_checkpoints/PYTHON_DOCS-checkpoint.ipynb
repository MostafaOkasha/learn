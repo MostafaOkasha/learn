{
 "cells": [
  {
   "cell_type": "markdown",
   "id": "6f9d08af-c3bd-4a16-a4d1-fe79f26e9185",
   "metadata": {},
   "source": [
    "# PYTHON DOCS\n",
    "\n",
    "## Breakdown of all the Python docs topics that can be found here:\n",
    "### https://docs.python.org/3/index.html\n",
    "### \n",
    "\n",
    "## Cheatsheets:\n",
    "1. https://perso.limsi.fr/pointal/_media/python:cours:mementopython3-english.pdf\n",
    "2. https://github.com/ehmatthes/pcc/releases/download/v1.0.0/beginners_python_cheat_sheet_pcc_all.pdf\n",
    "3. https://s3.amazonaws.com/assets.datacamp.com/blog_assets/PythonForDataScience.pdf\n",
    "4. https://s3.amazonaws.com/assets.datacamp.com/blog_assets/Cheat+Sheets/Importing_Data_Python_Cheat_Sheet.pdf\n",
    "5. https://cheatography.com/davechild/cheat-sheets/python/pdf/\n"
   ]
  },
  {
   "cell_type": "code",
   "execution_count": 3,
   "id": "078b4a68-3ae4-45dd-b99a-95c96f6c0ae5",
   "metadata": {},
   "outputs": [
    {
     "name": "stdout",
     "output_type": "stream",
     "text": [
      "hello\n"
     ]
    }
   ],
   "source": [
    "print(\"hello\")"
   ]
  },
  {
   "cell_type": "markdown",
   "id": "e6614079-33da-4eda-abe4-fcf9c1567775",
   "metadata": {},
   "source": [
    "# Base Types\n",
    "\n",
    "### INT\n",
    "```python\n",
    "int 783 0 -192 0b010 0o642 0xF3\n",
    "```\n",
    "\n",
    "### FLOAT\n",
    "```python\n",
    "float 9.23 0.0 -1.7e-6 (x10^-6)\n",
    "```\n",
    "\n",
    "### BOOL\n",
    "\n",
    "```python\n",
    "bool True False\n",
    "```\n",
    "### STR\n",
    "```python\n",
    "str \"One\\nTwo\" 'I\\'m'\n",
    "```\n",
    "\n",
    "\n",
    "### BYTES\n",
    "```python\n",
    "int 783\n",
    "```\n"
   ]
  },
  {
   "cell_type": "code",
   "execution_count": 8,
   "id": "0338d341-f86c-46e9-ac73-2a8e2a2f8caf",
   "metadata": {},
   "outputs": [
    {
     "name": "stdout",
     "output_type": "stream",
     "text": [
      "Hello\n",
      "This is a\n",
      "multi-line\n",
      "string\n"
     ]
    }
   ],
   "source": [
    "multi_line_string = \"\"\"Hello\n",
    "This is a\n",
    "multi-line\n",
    "string\"\"\"\n",
    "\n",
    "print(multi_line_string)"
   ]
  },
  {
   "cell_type": "markdown",
   "id": "8d3ec3cd-cdef-4be0-a38a-47d1bb14774b",
   "metadata": {},
   "source": []
  },
  {
   "cell_type": "markdown",
   "id": "920b33b2-7606-4342-8155-6d6c9b88fc3e",
   "metadata": {},
   "source": []
  },
  {
   "cell_type": "markdown",
   "id": "af818a12-5463-42d3-afaf-75b382e68942",
   "metadata": {},
   "source": []
  },
  {
   "cell_type": "markdown",
   "id": "d5e5dac8-497c-46d0-acf5-929a396b1787",
   "metadata": {},
   "source": []
  }
 ],
 "metadata": {
  "kernelspec": {
   "display_name": "Python 3 (ipykernel)",
   "language": "python",
   "name": "python3"
  },
  "language_info": {
   "codemirror_mode": {
    "name": "ipython",
    "version": 3
   },
   "file_extension": ".py",
   "mimetype": "text/x-python",
   "name": "python",
   "nbconvert_exporter": "python",
   "pygments_lexer": "ipython3",
   "version": "3.9.6"
  }
 },
 "nbformat": 4,
 "nbformat_minor": 5
}
