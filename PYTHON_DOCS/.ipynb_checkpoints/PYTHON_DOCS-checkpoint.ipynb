{
 "cells": [
  {
   "cell_type": "markdown",
   "id": "671cbe5a-8a7d-4433-8436-a8da00c8b442",
   "metadata": {},
   "source": [
    "# PYTHON DOCS\n",
    "\n",
    "## Breakdown of all the Python docs topics that can be found here:\n",
    "### https://docs.python.org/3/index.html\n",
    "### \n",
    "\n",
    "## Cheatsheets:\n",
    "1. https://perso.limsi.fr/pointal/_media/python:cours:mementopython3-english.pdf\n",
    "2. https://github.com/ehmatthes/pcc/releases/download/v1.0.0/beginners_python_cheat_sheet_pcc_all.pdf\n",
    "3. https://s3.amazonaws.com/assets.datacamp.com/blog_assets/PythonForDataScience.pdf\n",
    "4. https://s3.amazonaws.com/assets.datacamp.com/blog_assets/Cheat+Sheets/Importing_Data_Python_Cheat_Sheet.pdf\n",
    "5. https://cheatography.com/davechild/cheat-sheets/python/pdf/\n"
   ]
  },
  {
   "cell_type": "code",
   "execution_count": 1,
   "id": "3660e5c9-f51b-45af-b6d0-047f93658078",
   "metadata": {},
   "outputs": [
    {
     "name": "stdout",
     "output_type": "stream",
     "text": [
      "hello\n"
     ]
    }
   ],
   "source": [
    "print(\"hello\")"
   ]
  },
  {
   "cell_type": "code",
   "execution_count": null,
   "id": "58375627-33e3-4d66-9716-2cd69ae8b0cd",
   "metadata": {},
   "outputs": [],
   "source": []
  },
  {
   "cell_type": "code",
   "execution_count": null,
   "id": "aaa68aac-49f2-4978-b321-5515d65412bf",
   "metadata": {},
   "outputs": [],
   "source": []
  },
  {
   "cell_type": "code",
   "execution_count": null,
   "id": "85c9ff46-b9d1-4b69-a968-020614f11a41",
   "metadata": {},
   "outputs": [],
   "source": []
  }
 ],
 "metadata": {
  "kernelspec": {
   "display_name": "Python 3 (ipykernel)",
   "language": "python",
   "name": "python3"
  },
  "language_info": {
   "codemirror_mode": {
    "name": "ipython",
    "version": 3
   },
   "file_extension": ".py",
   "mimetype": "text/x-python",
   "name": "python",
   "nbconvert_exporter": "python",
   "pygments_lexer": "ipython3",
   "version": "3.9.6"
  }
 },
 "nbformat": 4,
 "nbformat_minor": 5
}
